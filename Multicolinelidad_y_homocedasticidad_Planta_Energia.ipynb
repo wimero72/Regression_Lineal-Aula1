{
  "nbformat": 4,
  "nbformat_minor": 0,
  "metadata": {
    "colab": {
      "provenance": [],
      "authorship_tag": "ABX9TyOxgVLR53N4KsweT5UDNaFG",
      "include_colab_link": true
    },
    "kernelspec": {
      "name": "python3",
      "display_name": "Python 3"
    },
    "language_info": {
      "name": "python"
    }
  },
  "cells": [
    {
      "cell_type": "markdown",
      "metadata": {
        "id": "view-in-github",
        "colab_type": "text"
      },
      "source": [
        "<a href=\"https://colab.research.google.com/github/wimero72/Regression_Lineal-Aula1/blob/main/Multicolinelidad_y_homocedasticidad_Planta_Energia.ipynb\" target=\"_parent\"><img src=\"https://colab.research.google.com/assets/colab-badge.svg\" alt=\"Open In Colab\"/></a>"
      ]
    },
    {
      "cell_type": "markdown",
      "source": [
        "Manos a la obra: ajustando un modelo para la planta\n",
        " Siguiente pregunta\n",
        "\n",
        "En esta actividad, vamos a aplicar los conceptos de multicolinealidad y homocedasticidad en un contexto diferente: el sector de energía. Utilizaremos este dataset de una planta de energía para explorar cómo estos conceptos pueden afectar nuestros modelos de regresión. ¡Vamos!\n",
        "\n",
        "Tu tarea implica llevar a cabo las siguientes etapas:\n",
        "\n",
        "Primera etapa: Verifica la multicolinealidad utilizando el concepto de VIF. Si hay indicios de multicolinealidad entre las variables, intenta pensar en qué medidas se pueden tomar. Para ello, deberás construir un modelo de regresión lineal asumiendo que la columna PE es la variable y.\n",
        "\n",
        "Segunda etapa: Realiza un análisis de residuos e identifica si hay o no heterocedasticidad en los datos.\n",
        "\n",
        "Dedica tiempo a las actividades y desarrolla tus habilidades a través de la aplicación de tus conocimientos adquiridos a lo largo del curso."
      ],
      "metadata": {
        "id": "_f7KnPiZLrV-"
      }
    },
    {
      "cell_type": "code",
      "execution_count": null,
      "metadata": {
        "id": "d5xVYulCLY7v"
      },
      "outputs": [],
      "source": [
        "import pandas as pd\n",
        "import numpy as np\n",
        "import matplotlib.pyplot as plt\n",
        "import seaborn as sns\n",
        "datos=pd.read_csv('https://raw.githubusercontent.com/wimero72/Regression_Lineal-Aula1/refs/heads/main/precios_casas.csv')\n",
        "datos.head(5)"
      ]
    }
  ]
}