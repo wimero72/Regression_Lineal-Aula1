{
  "nbformat": 4,
  "nbformat_minor": 0,
  "metadata": {
    "colab": {
      "provenance": [],
      "authorship_tag": "ABX9TyMIuuQqxJxB/3WMoAZBY7T8",
      "include_colab_link": true
    },
    "kernelspec": {
      "name": "python3",
      "display_name": "Python 3"
    },
    "language_info": {
      "name": "python"
    }
  },
  "cells": [
    {
      "cell_type": "markdown",
      "metadata": {
        "id": "view-in-github",
        "colab_type": "text"
      },
      "source": [
        "<a href=\"https://colab.research.google.com/github/wimero72/Regression_Lineal-Aula1/blob/main/Analisis_Precios_Habitaciones_Hotel.ipynb\" target=\"_parent\"><img src=\"https://colab.research.google.com/assets/colab-badge.svg\" alt=\"Open In Colab\"/></a>"
      ]
    },
    {
      "cell_type": "markdown",
      "source": [
        "Análisis y selección de modelos de regresión lineal\n",
        "Como persona Científica de Datos, estás a cargo del análisis del problema de fijación de precios de habitaciones de hoteles, utilizando el conjunto de datos proporcionado. Para ello, dispones de este dataset.\n",
        "\n",
        "En esta actividad, tu tarea consiste en llevar a cabo las siguientes etapas:\n",
        "\n",
        "análisis inicial con el PairPlot de Seaborn;\n",
        "construir modelos de regresión lineal; y\n",
        "realizar la comparación de estos modelos.\n",
        "Dedica tiempo a las actividades y desarrolla tus habilidades a través de la aplicación de tus conocimientos adquiridos a lo largo del curso."
      ],
      "metadata": {
        "id": "pzVe8xAV5S0p"
      }
    },
    {
      "cell_type": "code",
      "execution_count": null,
      "metadata": {
        "id": "AK5oV80P5Nvz"
      },
      "outputs": [],
      "source": [
        "import pandas as pd\n",
        "import numpy as np\n",
        "import matplotlib.pyplot as plt\n",
        "import seaborn as sns\n",
        "datos=pd.read_csv('https://raw.githubusercontent.com/wimero72/Regression_Lineal-Aula1/refs/heads/main/usina.csv')\n",
        "datos.head(5)"
      ]
    }
  ]
}